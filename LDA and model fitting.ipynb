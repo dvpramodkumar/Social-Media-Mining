{
 "cells": [
  {
   "cell_type": "markdown",
   "metadata": {},
   "source": [
    "# Social Media Mining\n",
    "## Final Project"
   ]
  },
  {
   "cell_type": "code",
   "execution_count": 1,
   "metadata": {},
   "outputs": [],
   "source": [
    "# Author Pramod Duvvuri\n",
    "import pandas as pd"
   ]
  },
  {
   "cell_type": "code",
   "execution_count": 2,
   "metadata": {},
   "outputs": [
    {
     "data": {
      "text/html": [
       "<div>\n",
       "<style scoped>\n",
       "    .dataframe tbody tr th:only-of-type {\n",
       "        vertical-align: middle;\n",
       "    }\n",
       "\n",
       "    .dataframe tbody tr th {\n",
       "        vertical-align: top;\n",
       "    }\n",
       "\n",
       "    .dataframe thead th {\n",
       "        text-align: right;\n",
       "    }\n",
       "</style>\n",
       "<table border=\"1\" class=\"dataframe\">\n",
       "  <thead>\n",
       "    <tr style=\"text-align: right;\">\n",
       "      <th></th>\n",
       "      <th>author</th>\n",
       "      <th>date</th>\n",
       "      <th>time</th>\n",
       "      <th>favorites</th>\n",
       "      <th>hashtags</th>\n",
       "      <th>mentions</th>\n",
       "      <th>permalink</th>\n",
       "      <th>replies</th>\n",
       "      <th>retweets</th>\n",
       "      <th>term</th>\n",
       "      <th>text</th>\n",
       "      <th>tweet_id</th>\n",
       "      <th>username</th>\n",
       "    </tr>\n",
       "  </thead>\n",
       "  <tbody>\n",
       "    <tr>\n",
       "      <th>0</th>\n",
       "      <td>1339835893</td>\n",
       "      <td>01-10-2015</td>\n",
       "      <td>18:04:00</td>\n",
       "      <td>5577</td>\n",
       "      <td>NaN</td>\n",
       "      <td>NaN</td>\n",
       "      <td>https://twitter.com/HillaryClinton/status/6497...</td>\n",
       "      <td>851</td>\n",
       "      <td>3122</td>\n",
       "      <td>HillaryClinton</td>\n",
       "      <td>Another devastating shooting. We need sensible...</td>\n",
       "      <td>_649706544704167936</td>\n",
       "      <td>HillaryClinton</td>\n",
       "    </tr>\n",
       "    <tr>\n",
       "      <th>1</th>\n",
       "      <td>1339835893</td>\n",
       "      <td>01-10-2015</td>\n",
       "      <td>12:34:00</td>\n",
       "      <td>948</td>\n",
       "      <td>NaN</td>\n",
       "      <td>NaN</td>\n",
       "      <td>https://twitter.com/HillaryClinton/status/6496...</td>\n",
       "      <td>232</td>\n",
       "      <td>554</td>\n",
       "      <td>HillaryClinton</td>\n",
       "      <td>Raising the minimum wage isn’t just a women’s ...</td>\n",
       "      <td>_649623498210447360</td>\n",
       "      <td>HillaryClinton</td>\n",
       "    </tr>\n",
       "    <tr>\n",
       "      <th>2</th>\n",
       "      <td>1339835893</td>\n",
       "      <td>01-10-2015</td>\n",
       "      <td>09:15:00</td>\n",
       "      <td>1264</td>\n",
       "      <td>NaN</td>\n",
       "      <td>NaN</td>\n",
       "      <td>https://twitter.com/HillaryClinton/status/6495...</td>\n",
       "      <td>183</td>\n",
       "      <td>718</td>\n",
       "      <td>HillaryClinton</td>\n",
       "      <td>The United States is the only country in the d...</td>\n",
       "      <td>_649573475645005827</td>\n",
       "      <td>HillaryClinton</td>\n",
       "    </tr>\n",
       "    <tr>\n",
       "      <th>3</th>\n",
       "      <td>1339835893</td>\n",
       "      <td>30-09-2015</td>\n",
       "      <td>20:36:00</td>\n",
       "      <td>1286</td>\n",
       "      <td>NaN</td>\n",
       "      <td>NaN</td>\n",
       "      <td>https://twitter.com/HillaryClinton/status/6493...</td>\n",
       "      <td>185</td>\n",
       "      <td>481</td>\n",
       "      <td>HillaryClinton</td>\n",
       "      <td>In case you were wondering, you should be foll...</td>\n",
       "      <td>_649382296366264321</td>\n",
       "      <td>HillaryClinton</td>\n",
       "    </tr>\n",
       "    <tr>\n",
       "      <th>4</th>\n",
       "      <td>1339835893</td>\n",
       "      <td>02-10-2015</td>\n",
       "      <td>17:15:00</td>\n",
       "      <td>1384</td>\n",
       "      <td>NaN</td>\n",
       "      <td>NaN</td>\n",
       "      <td>https://twitter.com/HillaryClinton/status/6500...</td>\n",
       "      <td>229</td>\n",
       "      <td>498</td>\n",
       "      <td>HillaryClinton</td>\n",
       "      <td>\"I am well aware that this is a political moun...</td>\n",
       "      <td>_650056562594172928</td>\n",
       "      <td>HillaryClinton</td>\n",
       "    </tr>\n",
       "  </tbody>\n",
       "</table>\n",
       "</div>"
      ],
      "text/plain": [
       "       author        date      time  favorites hashtags mentions  \\\n",
       "0  1339835893  01-10-2015  18:04:00       5577      NaN      NaN   \n",
       "1  1339835893  01-10-2015  12:34:00        948      NaN      NaN   \n",
       "2  1339835893  01-10-2015  09:15:00       1264      NaN      NaN   \n",
       "3  1339835893  30-09-2015  20:36:00       1286      NaN      NaN   \n",
       "4  1339835893  02-10-2015  17:15:00       1384      NaN      NaN   \n",
       "\n",
       "                                           permalink  replies  retweets  \\\n",
       "0  https://twitter.com/HillaryClinton/status/6497...      851      3122   \n",
       "1  https://twitter.com/HillaryClinton/status/6496...      232       554   \n",
       "2  https://twitter.com/HillaryClinton/status/6495...      183       718   \n",
       "3  https://twitter.com/HillaryClinton/status/6493...      185       481   \n",
       "4  https://twitter.com/HillaryClinton/status/6500...      229       498   \n",
       "\n",
       "             term                                               text  \\\n",
       "0  HillaryClinton  Another devastating shooting. We need sensible...   \n",
       "1  HillaryClinton  Raising the minimum wage isn’t just a women’s ...   \n",
       "2  HillaryClinton  The United States is the only country in the d...   \n",
       "3  HillaryClinton  In case you were wondering, you should be foll...   \n",
       "4  HillaryClinton  \"I am well aware that this is a political moun...   \n",
       "\n",
       "              tweet_id        username  \n",
       "0  _649706544704167936  HillaryClinton  \n",
       "1  _649623498210447360  HillaryClinton  \n",
       "2  _649573475645005827  HillaryClinton  \n",
       "3  _649382296366264321  HillaryClinton  \n",
       "4  _650056562594172928  HillaryClinton  "
      ]
     },
     "execution_count": 2,
     "metadata": {},
     "output_type": "execute_result"
    }
   ],
   "source": [
    "ht = pd.read_csv('C:/Users/admin/Downloads/SMM-master/HillaryClinton.csv')\n",
    "ht.head()"
   ]
  },
  {
   "cell_type": "code",
   "execution_count": 3,
   "metadata": {},
   "outputs": [
    {
     "data": {
      "text/html": [
       "<div>\n",
       "<style scoped>\n",
       "    .dataframe tbody tr th:only-of-type {\n",
       "        vertical-align: middle;\n",
       "    }\n",
       "\n",
       "    .dataframe tbody tr th {\n",
       "        vertical-align: top;\n",
       "    }\n",
       "\n",
       "    .dataframe thead th {\n",
       "        text-align: right;\n",
       "    }\n",
       "</style>\n",
       "<table border=\"1\" class=\"dataframe\">\n",
       "  <thead>\n",
       "    <tr style=\"text-align: right;\">\n",
       "      <th></th>\n",
       "      <th>author</th>\n",
       "      <th>date</th>\n",
       "      <th>time</th>\n",
       "      <th>favorites</th>\n",
       "      <th>hashtags</th>\n",
       "      <th>mentions</th>\n",
       "      <th>permalink</th>\n",
       "      <th>replies</th>\n",
       "      <th>retweets</th>\n",
       "      <th>term</th>\n",
       "      <th>text</th>\n",
       "      <th>tweet_id</th>\n",
       "      <th>username</th>\n",
       "    </tr>\n",
       "  </thead>\n",
       "  <tbody>\n",
       "    <tr>\n",
       "      <th>0</th>\n",
       "      <td>25073877</td>\n",
       "      <td>01-04-2015</td>\n",
       "      <td>16:13:00</td>\n",
       "      <td>318</td>\n",
       "      <td>NaN</td>\n",
       "      <td>NaN</td>\n",
       "      <td>https://twitter.com/realDonaldTrump/status/583...</td>\n",
       "      <td>30</td>\n",
       "      <td>268</td>\n",
       "      <td>realDonaldTrump</td>\n",
       "      <td>Entrepreneurs: Practice positive thinking with...</td>\n",
       "      <td>_583361671156113409</td>\n",
       "      <td>realDonaldTrump</td>\n",
       "    </tr>\n",
       "    <tr>\n",
       "      <th>1</th>\n",
       "      <td>25073877</td>\n",
       "      <td>01-04-2015</td>\n",
       "      <td>16:03:00</td>\n",
       "      <td>332</td>\n",
       "      <td>NaN</td>\n",
       "      <td>NaN</td>\n",
       "      <td>https://twitter.com/realDonaldTrump/status/583...</td>\n",
       "      <td>28</td>\n",
       "      <td>258</td>\n",
       "      <td>realDonaldTrump</td>\n",
       "      <td>Entrepreneurs: Learn to trust yourself. Being ...</td>\n",
       "      <td>_583359130141913088</td>\n",
       "      <td>realDonaldTrump</td>\n",
       "    </tr>\n",
       "    <tr>\n",
       "      <th>2</th>\n",
       "      <td>25073877</td>\n",
       "      <td>01-04-2015</td>\n",
       "      <td>16:00:00</td>\n",
       "      <td>392</td>\n",
       "      <td>NaN</td>\n",
       "      <td>NaN</td>\n",
       "      <td>https://twitter.com/realDonaldTrump/status/583...</td>\n",
       "      <td>31</td>\n",
       "      <td>322</td>\n",
       "      <td>realDonaldTrump</td>\n",
       "      <td>Entrepreneurs: Realize that success requires 1...</td>\n",
       "      <td>_583358317323501569</td>\n",
       "      <td>realDonaldTrump</td>\n",
       "    </tr>\n",
       "    <tr>\n",
       "      <th>3</th>\n",
       "      <td>25073877</td>\n",
       "      <td>01-04-2015</td>\n",
       "      <td>15:55:00</td>\n",
       "      <td>97</td>\n",
       "      <td>NaN</td>\n",
       "      <td>@ @</td>\n",
       "      <td>https://twitter.com/realDonaldTrump/status/583...</td>\n",
       "      <td>15</td>\n",
       "      <td>89</td>\n",
       "      <td>realDonaldTrump</td>\n",
       "      <td>Must read via @ FoxNews by @ JaySekulow: “Mr. ...</td>\n",
       "      <td>_583356914014257153</td>\n",
       "      <td>realDonaldTrump</td>\n",
       "    </tr>\n",
       "    <tr>\n",
       "      <th>4</th>\n",
       "      <td>25073877</td>\n",
       "      <td>01-04-2015</td>\n",
       "      <td>15:38:00</td>\n",
       "      <td>159</td>\n",
       "      <td>NaN</td>\n",
       "      <td>NaN</td>\n",
       "      <td>https://twitter.com/realDonaldTrump/status/583...</td>\n",
       "      <td>45</td>\n",
       "      <td>110</td>\n",
       "      <td>realDonaldTrump</td>\n",
       "      <td>Obama’s offer to Iran will not stop Iran’s bre...</td>\n",
       "      <td>_583352700164771841</td>\n",
       "      <td>realDonaldTrump</td>\n",
       "    </tr>\n",
       "  </tbody>\n",
       "</table>\n",
       "</div>"
      ],
      "text/plain": [
       "     author        date      time  favorites hashtags mentions  \\\n",
       "0  25073877  01-04-2015  16:13:00        318      NaN      NaN   \n",
       "1  25073877  01-04-2015  16:03:00        332      NaN      NaN   \n",
       "2  25073877  01-04-2015  16:00:00        392      NaN      NaN   \n",
       "3  25073877  01-04-2015  15:55:00         97      NaN      @ @   \n",
       "4  25073877  01-04-2015  15:38:00        159      NaN      NaN   \n",
       "\n",
       "                                           permalink  replies  retweets  \\\n",
       "0  https://twitter.com/realDonaldTrump/status/583...       30       268   \n",
       "1  https://twitter.com/realDonaldTrump/status/583...       28       258   \n",
       "2  https://twitter.com/realDonaldTrump/status/583...       31       322   \n",
       "3  https://twitter.com/realDonaldTrump/status/583...       15        89   \n",
       "4  https://twitter.com/realDonaldTrump/status/583...       45       110   \n",
       "\n",
       "              term                                               text  \\\n",
       "0  realDonaldTrump  Entrepreneurs: Practice positive thinking with...   \n",
       "1  realDonaldTrump  Entrepreneurs: Learn to trust yourself. Being ...   \n",
       "2  realDonaldTrump  Entrepreneurs: Realize that success requires 1...   \n",
       "3  realDonaldTrump  Must read via @ FoxNews by @ JaySekulow: “Mr. ...   \n",
       "4  realDonaldTrump  Obama’s offer to Iran will not stop Iran’s bre...   \n",
       "\n",
       "              tweet_id         username  \n",
       "0  _583361671156113409  realDonaldTrump  \n",
       "1  _583359130141913088  realDonaldTrump  \n",
       "2  _583358317323501569  realDonaldTrump  \n",
       "3  _583356914014257153  realDonaldTrump  \n",
       "4  _583352700164771841  realDonaldTrump  "
      ]
     },
     "execution_count": 3,
     "metadata": {},
     "output_type": "execute_result"
    }
   ],
   "source": [
    "dt = pd.read_csv('C:/Users/admin/Downloads/SMM-master/realDonaldTrump.csv')\n",
    "dt.head()"
   ]
  },
  {
   "cell_type": "code",
   "execution_count": 4,
   "metadata": {},
   "outputs": [],
   "source": [
    "import textblob as tb\n",
    "a = tb.TextBlob(dt.text[4])"
   ]
  },
  {
   "cell_type": "code",
   "execution_count": 5,
   "metadata": {},
   "outputs": [
    {
     "name": "stdout",
     "output_type": "stream",
     "text": [
      "Obama’s offer to Iran will not stop Iran’s breakout capability. It is a bad, desperate deal negotiated from weakness. Pass sanctions!\n",
      "Sentiment(polarity=-0.7249999999999999, subjectivity=0.8333333333333333)\n"
     ]
    }
   ],
   "source": [
    "print(dt.text[4])\n",
    "print(a.sentiment)"
   ]
  },
  {
   "cell_type": "code",
   "execution_count": 6,
   "metadata": {},
   "outputs": [
    {
     "name": "stdout",
     "output_type": "stream",
     "text": [
      "Sentiment(polarity=-0.7249999999999999, subjectivity=0.8333333333333333, assessments=[(['bad'], -0.6999999999999998, 0.6666666666666666, None), (['desperate', '!'], -0.75, 1.0, None)])\n"
     ]
    }
   ],
   "source": [
    "print(a.sentiment_assessments)"
   ]
  },
  {
   "cell_type": "code",
   "execution_count": 7,
   "metadata": {},
   "outputs": [],
   "source": [
    "def get_sentiment_analysis(tweet):\n",
    "        # create TextBlob object of passed tweet text\n",
    "        analysis = tb.TextBlob(clean_tweet(str(tweet)))\n",
    "        sentiment = ''\n",
    "        # set sentiment\n",
    "        if analysis.sentiment.polarity > 0:\n",
    "            sentiment = 'positive'\n",
    "        elif analysis.sentiment.polarity == 0:\n",
    "            sentiment = 'neutral'\n",
    "        else:\n",
    "            sentiment = 'negative'            \n",
    "        return sentiment"
   ]
  },
  {
   "cell_type": "code",
   "execution_count": 8,
   "metadata": {},
   "outputs": [],
   "source": [
    "def get_sentiment_details(tweet):\n",
    "        # create TextBlob object of passed tweet text\n",
    "        analysis = tb.TextBlob(clean_tweet(tweet))\n",
    "        return analysis.sentiment"
   ]
  },
  {
   "cell_type": "code",
   "execution_count": 9,
   "metadata": {},
   "outputs": [],
   "source": [
    "import re\n",
    "def clean_tweet(tweet):\n",
    "        return ' '.join(re.sub(\"(@[A-Za-z0-9]+)|([^0-9A-Za-z \\t])|(\\w+:\\/\\/\\S+)\", \" \", tweet).split())"
   ]
  },
  {
   "cell_type": "code",
   "execution_count": 10,
   "metadata": {},
   "outputs": [
    {
     "name": "stdout",
     "output_type": "stream",
     "text": [
      "Must read via @ FoxNews by @ JaySekulow: “Mr. President: Will you bring home American pastor imprisoned in Iran?”http://www.foxnews.com/opinion/2015/03/30/mr-president-will-bring-home-american-pastor-imprisoned-in-iran/ …\n"
     ]
    }
   ],
   "source": [
    "print(dt.text[3])"
   ]
  },
  {
   "cell_type": "code",
   "execution_count": 11,
   "metadata": {},
   "outputs": [
    {
     "name": "stdout",
     "output_type": "stream",
     "text": [
      "Must read via FoxNews by JaySekulow Mr President Will you bring home American pastor imprisoned in Iran\n"
     ]
    }
   ],
   "source": [
    "print(clean_tweet(dt.text[3]))"
   ]
  },
  {
   "cell_type": "code",
   "execution_count": 12,
   "metadata": {},
   "outputs": [],
   "source": [
    "dt_final = pd.DataFrame(columns = ['tweet','sentiment','polarity','subjectivity','label'])\n",
    "hc_final = pd.DataFrame(columns = ['tweet','sentiment','polarity','subjectivity','label'])"
   ]
  },
  {
   "cell_type": "code",
   "execution_count": 13,
   "metadata": {},
   "outputs": [],
   "source": [
    "dt_final.tweet = dt.text\n",
    "dt_final.label = 'Donald_Trump'\n",
    "# --------------------------------\n",
    "hc_final.tweet = ht.text\n",
    "hc_final.label = 'Hillary_Clinton'"
   ]
  },
  {
   "cell_type": "code",
   "execution_count": 14,
   "metadata": {},
   "outputs": [],
   "source": [
    "dt_final.sentiment = dt_final.tweet.apply(get_sentiment_analysis)\n",
    "dt_final['sentiment_details'] = dt_final.tweet.apply(get_sentiment_details)\n",
    "dt_final[['polarity','subjectivity']] = dt_final['sentiment_details'].apply(pd.Series) #Splitting Tuple"
   ]
  },
  {
   "cell_type": "code",
   "execution_count": 15,
   "metadata": {},
   "outputs": [
    {
     "data": {
      "text/html": [
       "<div>\n",
       "<style scoped>\n",
       "    .dataframe tbody tr th:only-of-type {\n",
       "        vertical-align: middle;\n",
       "    }\n",
       "\n",
       "    .dataframe tbody tr th {\n",
       "        vertical-align: top;\n",
       "    }\n",
       "\n",
       "    .dataframe thead th {\n",
       "        text-align: right;\n",
       "    }\n",
       "</style>\n",
       "<table border=\"1\" class=\"dataframe\">\n",
       "  <thead>\n",
       "    <tr style=\"text-align: right;\">\n",
       "      <th></th>\n",
       "      <th>tweet</th>\n",
       "      <th>sentiment</th>\n",
       "      <th>polarity</th>\n",
       "      <th>subjectivity</th>\n",
       "      <th>label</th>\n",
       "      <th>sentiment_details</th>\n",
       "    </tr>\n",
       "  </thead>\n",
       "  <tbody>\n",
       "    <tr>\n",
       "      <th>0</th>\n",
       "      <td>Entrepreneurs: Practice positive thinking with...</td>\n",
       "      <td>positive</td>\n",
       "      <td>0.088636</td>\n",
       "      <td>0.272727</td>\n",
       "      <td>Donald_Trump</td>\n",
       "      <td>(0.08863636363636362, 0.2727272727272727)</td>\n",
       "    </tr>\n",
       "    <tr>\n",
       "      <th>1</th>\n",
       "      <td>Entrepreneurs: Learn to trust yourself. Being ...</td>\n",
       "      <td>neutral</td>\n",
       "      <td>0.000000</td>\n",
       "      <td>0.000000</td>\n",
       "      <td>Donald_Trump</td>\n",
       "      <td>(0.0, 0.0)</td>\n",
       "    </tr>\n",
       "    <tr>\n",
       "      <th>2</th>\n",
       "      <td>Entrepreneurs: Realize that success requires 1...</td>\n",
       "      <td>positive</td>\n",
       "      <td>0.066667</td>\n",
       "      <td>0.033333</td>\n",
       "      <td>Donald_Trump</td>\n",
       "      <td>(0.06666666666666667, 0.03333333333333333)</td>\n",
       "    </tr>\n",
       "    <tr>\n",
       "      <th>3</th>\n",
       "      <td>Must read via @ FoxNews by @ JaySekulow: “Mr. ...</td>\n",
       "      <td>neutral</td>\n",
       "      <td>0.000000</td>\n",
       "      <td>0.000000</td>\n",
       "      <td>Donald_Trump</td>\n",
       "      <td>(0.0, 0.0)</td>\n",
       "    </tr>\n",
       "    <tr>\n",
       "      <th>4</th>\n",
       "      <td>Obama’s offer to Iran will not stop Iran’s bre...</td>\n",
       "      <td>negative</td>\n",
       "      <td>-0.650000</td>\n",
       "      <td>0.833333</td>\n",
       "      <td>Donald_Trump</td>\n",
       "      <td>(-0.6499999999999999, 0.8333333333333333)</td>\n",
       "    </tr>\n",
       "  </tbody>\n",
       "</table>\n",
       "</div>"
      ],
      "text/plain": [
       "                                               tweet sentiment  polarity  \\\n",
       "0  Entrepreneurs: Practice positive thinking with...  positive  0.088636   \n",
       "1  Entrepreneurs: Learn to trust yourself. Being ...   neutral  0.000000   \n",
       "2  Entrepreneurs: Realize that success requires 1...  positive  0.066667   \n",
       "3  Must read via @ FoxNews by @ JaySekulow: “Mr. ...   neutral  0.000000   \n",
       "4  Obama’s offer to Iran will not stop Iran’s bre...  negative -0.650000   \n",
       "\n",
       "   subjectivity         label                           sentiment_details  \n",
       "0      0.272727  Donald_Trump   (0.08863636363636362, 0.2727272727272727)  \n",
       "1      0.000000  Donald_Trump                                  (0.0, 0.0)  \n",
       "2      0.033333  Donald_Trump  (0.06666666666666667, 0.03333333333333333)  \n",
       "3      0.000000  Donald_Trump                                  (0.0, 0.0)  \n",
       "4      0.833333  Donald_Trump   (-0.6499999999999999, 0.8333333333333333)  "
      ]
     },
     "execution_count": 15,
     "metadata": {},
     "output_type": "execute_result"
    }
   ],
   "source": [
    "dt_final.head()"
   ]
  },
  {
   "cell_type": "code",
   "execution_count": 16,
   "metadata": {},
   "outputs": [],
   "source": [
    "hc_final['tweet'] = hc_final['tweet'].apply(str)\n",
    "hc_final.sentiment = hc_final['tweet'].apply(get_sentiment_analysis)\n",
    "hc_final['sentiment_details'] = hc_final['tweet'].apply(get_sentiment_details)\n",
    "hc_final[['polarity','subjectivity']] = hc_final['sentiment_details'].apply(pd.Series) #Splitting Tuple"
   ]
  },
  {
   "cell_type": "code",
   "execution_count": 17,
   "metadata": {},
   "outputs": [
    {
     "data": {
      "text/html": [
       "<div>\n",
       "<style scoped>\n",
       "    .dataframe tbody tr th:only-of-type {\n",
       "        vertical-align: middle;\n",
       "    }\n",
       "\n",
       "    .dataframe tbody tr th {\n",
       "        vertical-align: top;\n",
       "    }\n",
       "\n",
       "    .dataframe thead th {\n",
       "        text-align: right;\n",
       "    }\n",
       "</style>\n",
       "<table border=\"1\" class=\"dataframe\">\n",
       "  <thead>\n",
       "    <tr style=\"text-align: right;\">\n",
       "      <th></th>\n",
       "      <th>tweet</th>\n",
       "      <th>sentiment</th>\n",
       "      <th>polarity</th>\n",
       "      <th>subjectivity</th>\n",
       "      <th>label</th>\n",
       "      <th>sentiment_details</th>\n",
       "    </tr>\n",
       "  </thead>\n",
       "  <tbody>\n",
       "    <tr>\n",
       "      <th>0</th>\n",
       "      <td>Another devastating shooting. We need sensible...</td>\n",
       "      <td>negative</td>\n",
       "      <td>-1.000</td>\n",
       "      <td>1.000</td>\n",
       "      <td>Hillary_Clinton</td>\n",
       "      <td>(-1.0, 1.0)</td>\n",
       "    </tr>\n",
       "    <tr>\n",
       "      <th>1</th>\n",
       "      <td>Raising the minimum wage isn’t just a women’s ...</td>\n",
       "      <td>positive</td>\n",
       "      <td>0.200</td>\n",
       "      <td>0.200</td>\n",
       "      <td>Hillary_Clinton</td>\n",
       "      <td>(0.2, 0.2)</td>\n",
       "    </tr>\n",
       "    <tr>\n",
       "      <th>2</th>\n",
       "      <td>The United States is the only country in the d...</td>\n",
       "      <td>positive</td>\n",
       "      <td>0.050</td>\n",
       "      <td>0.650</td>\n",
       "      <td>Hillary_Clinton</td>\n",
       "      <td>(0.05, 0.65)</td>\n",
       "    </tr>\n",
       "    <tr>\n",
       "      <th>3</th>\n",
       "      <td>In case you were wondering, you should be foll...</td>\n",
       "      <td>neutral</td>\n",
       "      <td>0.000</td>\n",
       "      <td>0.100</td>\n",
       "      <td>Hillary_Clinton</td>\n",
       "      <td>(0.0, 0.1)</td>\n",
       "    </tr>\n",
       "    <tr>\n",
       "      <th>4</th>\n",
       "      <td>\"I am well aware that this is a political moun...</td>\n",
       "      <td>positive</td>\n",
       "      <td>0.125</td>\n",
       "      <td>0.175</td>\n",
       "      <td>Hillary_Clinton</td>\n",
       "      <td>(0.125, 0.175)</td>\n",
       "    </tr>\n",
       "  </tbody>\n",
       "</table>\n",
       "</div>"
      ],
      "text/plain": [
       "                                               tweet sentiment  polarity  \\\n",
       "0  Another devastating shooting. We need sensible...  negative    -1.000   \n",
       "1  Raising the minimum wage isn’t just a women’s ...  positive     0.200   \n",
       "2  The United States is the only country in the d...  positive     0.050   \n",
       "3  In case you were wondering, you should be foll...   neutral     0.000   \n",
       "4  \"I am well aware that this is a political moun...  positive     0.125   \n",
       "\n",
       "   subjectivity            label sentiment_details  \n",
       "0         1.000  Hillary_Clinton       (-1.0, 1.0)  \n",
       "1         0.200  Hillary_Clinton        (0.2, 0.2)  \n",
       "2         0.650  Hillary_Clinton      (0.05, 0.65)  \n",
       "3         0.100  Hillary_Clinton        (0.0, 0.1)  \n",
       "4         0.175  Hillary_Clinton    (0.125, 0.175)  "
      ]
     },
     "execution_count": 17,
     "metadata": {},
     "output_type": "execute_result"
    }
   ],
   "source": [
    "hc_final.head()"
   ]
  },
  {
   "cell_type": "code",
   "execution_count": 18,
   "metadata": {},
   "outputs": [
    {
     "data": {
      "text/html": [
       "<div>\n",
       "<style scoped>\n",
       "    .dataframe tbody tr th:only-of-type {\n",
       "        vertical-align: middle;\n",
       "    }\n",
       "\n",
       "    .dataframe tbody tr th {\n",
       "        vertical-align: top;\n",
       "    }\n",
       "\n",
       "    .dataframe thead th {\n",
       "        text-align: right;\n",
       "    }\n",
       "</style>\n",
       "<table border=\"1\" class=\"dataframe\">\n",
       "  <thead>\n",
       "    <tr style=\"text-align: right;\">\n",
       "      <th></th>\n",
       "      <th>tweet</th>\n",
       "      <th>polarity</th>\n",
       "      <th>subjectivity</th>\n",
       "      <th>label</th>\n",
       "      <th>sentiment_details</th>\n",
       "    </tr>\n",
       "    <tr>\n",
       "      <th>sentiment</th>\n",
       "      <th></th>\n",
       "      <th></th>\n",
       "      <th></th>\n",
       "      <th></th>\n",
       "      <th></th>\n",
       "    </tr>\n",
       "  </thead>\n",
       "  <tbody>\n",
       "    <tr>\n",
       "      <th>negative</th>\n",
       "      <td>1715</td>\n",
       "      <td>1715</td>\n",
       "      <td>1715</td>\n",
       "      <td>1715</td>\n",
       "      <td>1715</td>\n",
       "    </tr>\n",
       "    <tr>\n",
       "      <th>neutral</th>\n",
       "      <td>2761</td>\n",
       "      <td>2761</td>\n",
       "      <td>2761</td>\n",
       "      <td>2761</td>\n",
       "      <td>2761</td>\n",
       "    </tr>\n",
       "    <tr>\n",
       "      <th>positive</th>\n",
       "      <td>4885</td>\n",
       "      <td>4885</td>\n",
       "      <td>4885</td>\n",
       "      <td>4885</td>\n",
       "      <td>4885</td>\n",
       "    </tr>\n",
       "  </tbody>\n",
       "</table>\n",
       "</div>"
      ],
      "text/plain": [
       "           tweet  polarity  subjectivity  label  sentiment_details\n",
       "sentiment                                                         \n",
       "negative    1715      1715          1715   1715               1715\n",
       "neutral     2761      2761          2761   2761               2761\n",
       "positive    4885      4885          4885   4885               4885"
      ]
     },
     "execution_count": 18,
     "metadata": {},
     "output_type": "execute_result"
    }
   ],
   "source": [
    "dt_final.groupby('sentiment').count()"
   ]
  },
  {
   "cell_type": "code",
   "execution_count": 19,
   "metadata": {},
   "outputs": [
    {
     "data": {
      "text/plain": [
       "9361"
      ]
     },
     "execution_count": 19,
     "metadata": {},
     "output_type": "execute_result"
    }
   ],
   "source": [
    "dt_final['tweet'].count()"
   ]
  },
  {
   "cell_type": "code",
   "execution_count": 20,
   "metadata": {},
   "outputs": [
    {
     "data": {
      "text/html": [
       "<div>\n",
       "<style scoped>\n",
       "    .dataframe tbody tr th:only-of-type {\n",
       "        vertical-align: middle;\n",
       "    }\n",
       "\n",
       "    .dataframe tbody tr th {\n",
       "        vertical-align: top;\n",
       "    }\n",
       "\n",
       "    .dataframe thead th {\n",
       "        text-align: right;\n",
       "    }\n",
       "</style>\n",
       "<table border=\"1\" class=\"dataframe\">\n",
       "  <thead>\n",
       "    <tr style=\"text-align: right;\">\n",
       "      <th></th>\n",
       "      <th>tweet</th>\n",
       "      <th>polarity</th>\n",
       "      <th>subjectivity</th>\n",
       "      <th>label</th>\n",
       "      <th>sentiment_details</th>\n",
       "    </tr>\n",
       "    <tr>\n",
       "      <th>sentiment</th>\n",
       "      <th></th>\n",
       "      <th></th>\n",
       "      <th></th>\n",
       "      <th></th>\n",
       "      <th></th>\n",
       "    </tr>\n",
       "  </thead>\n",
       "  <tbody>\n",
       "    <tr>\n",
       "      <th>negative</th>\n",
       "      <td>18.320692</td>\n",
       "      <td>18.320692</td>\n",
       "      <td>18.320692</td>\n",
       "      <td>18.320692</td>\n",
       "      <td>18.320692</td>\n",
       "    </tr>\n",
       "    <tr>\n",
       "      <th>neutral</th>\n",
       "      <td>29.494712</td>\n",
       "      <td>29.494712</td>\n",
       "      <td>29.494712</td>\n",
       "      <td>29.494712</td>\n",
       "      <td>29.494712</td>\n",
       "    </tr>\n",
       "    <tr>\n",
       "      <th>positive</th>\n",
       "      <td>52.184596</td>\n",
       "      <td>52.184596</td>\n",
       "      <td>52.184596</td>\n",
       "      <td>52.184596</td>\n",
       "      <td>52.184596</td>\n",
       "    </tr>\n",
       "  </tbody>\n",
       "</table>\n",
       "</div>"
      ],
      "text/plain": [
       "               tweet   polarity  subjectivity      label  sentiment_details\n",
       "sentiment                                                                  \n",
       "negative   18.320692  18.320692     18.320692  18.320692          18.320692\n",
       "neutral    29.494712  29.494712     29.494712  29.494712          29.494712\n",
       "positive   52.184596  52.184596     52.184596  52.184596          52.184596"
      ]
     },
     "execution_count": 20,
     "metadata": {},
     "output_type": "execute_result"
    }
   ],
   "source": [
    "dt_final.groupby('sentiment').count() * 100 / dt_final['tweet'].count()"
   ]
  },
  {
   "cell_type": "code",
   "execution_count": 28,
   "metadata": {},
   "outputs": [
    {
     "data": {
      "image/png": "[encoded data removed]",
      "text/plain": [
       "<Figure size 640x480 with 1 Axes>"
      ]
     },
     "metadata": {},
     "output_type": "display_data"
    }
   ],
   "source": [
    "import matplotlib.pyplot as plt; plt.rcdefaults()\n",
    "import matplotlib.pyplot as plt\n",
    "import numpy as np\n",
    "\n",
    "sentiment = [52.2,29.5,18.3]\n",
    "objects = ('positive','neutral','negative')\n",
    "y_pos = np.arange(len(objects))\n",
    " \n",
    "plt.bar(y_pos, sentiment, align='center', alpha=0.5,color = 'r')\n",
    "plt.xticks(y_pos, objects)\n",
    "plt.ylabel('Percentage')\n",
    "plt.title('Donald Trump\\'s Tweets')\n",
    " \n",
    "plt.show()"
   ]
  },
  {
   "cell_type": "code",
   "execution_count": 29,
   "metadata": {},
   "outputs": [
    {
     "data": {
      "text/html": [
       "<div>\n",
       "<style scoped>\n",
       "    .dataframe tbody tr th:only-of-type {\n",
       "        vertical-align: middle;\n",
       "    }\n",
       "\n",
       "    .dataframe tbody tr th {\n",
       "        vertical-align: top;\n",
       "    }\n",
       "\n",
       "    .dataframe thead th {\n",
       "        text-align: right;\n",
       "    }\n",
       "</style>\n",
       "<table border=\"1\" class=\"dataframe\">\n",
       "  <thead>\n",
       "    <tr style=\"text-align: right;\">\n",
       "      <th></th>\n",
       "      <th>tweet</th>\n",
       "      <th>polarity</th>\n",
       "      <th>subjectivity</th>\n",
       "      <th>label</th>\n",
       "      <th>sentiment_details</th>\n",
       "    </tr>\n",
       "    <tr>\n",
       "      <th>sentiment</th>\n",
       "      <th></th>\n",
       "      <th></th>\n",
       "      <th></th>\n",
       "      <th></th>\n",
       "      <th></th>\n",
       "    </tr>\n",
       "  </thead>\n",
       "  <tbody>\n",
       "    <tr>\n",
       "      <th>negative</th>\n",
       "      <td>1087</td>\n",
       "      <td>1087</td>\n",
       "      <td>1087</td>\n",
       "      <td>1087</td>\n",
       "      <td>1087</td>\n",
       "    </tr>\n",
       "    <tr>\n",
       "      <th>neutral</th>\n",
       "      <td>2919</td>\n",
       "      <td>2919</td>\n",
       "      <td>2919</td>\n",
       "      <td>2919</td>\n",
       "      <td>2919</td>\n",
       "    </tr>\n",
       "    <tr>\n",
       "      <th>positive</th>\n",
       "      <td>3451</td>\n",
       "      <td>3451</td>\n",
       "      <td>3451</td>\n",
       "      <td>3451</td>\n",
       "      <td>3451</td>\n",
       "    </tr>\n",
       "  </tbody>\n",
       "</table>\n",
       "</div>"
      ],
      "text/plain": [
       "           tweet  polarity  subjectivity  label  sentiment_details\n",
       "sentiment                                                         \n",
       "negative    1087      1087          1087   1087               1087\n",
       "neutral     2919      2919          2919   2919               2919\n",
       "positive    3451      3451          3451   3451               3451"
      ]
     },
     "execution_count": 29,
     "metadata": {},
     "output_type": "execute_result"
    }
   ],
   "source": [
    "hc_final.groupby('sentiment').count()"
   ]
  },
  {
   "cell_type": "code",
   "execution_count": 30,
   "metadata": {},
   "outputs": [
    {
     "data": {
      "text/plain": [
       "7457"
      ]
     },
     "execution_count": 30,
     "metadata": {},
     "output_type": "execute_result"
    }
   ],
   "source": [
    "hc_final['tweet'].count()"
   ]
  },
  {
   "cell_type": "code",
   "execution_count": 31,
   "metadata": {},
   "outputs": [
    {
     "data": {
      "text/html": [
       "<div>\n",
       "<style scoped>\n",
       "    .dataframe tbody tr th:only-of-type {\n",
       "        vertical-align: middle;\n",
       "    }\n",
       "\n",
       "    .dataframe tbody tr th {\n",
       "        vertical-align: top;\n",
       "    }\n",
       "\n",
       "    .dataframe thead th {\n",
       "        text-align: right;\n",
       "    }\n",
       "</style>\n",
       "<table border=\"1\" class=\"dataframe\">\n",
       "  <thead>\n",
       "    <tr style=\"text-align: right;\">\n",
       "      <th></th>\n",
       "      <th>tweet</th>\n",
       "      <th>polarity</th>\n",
       "      <th>subjectivity</th>\n",
       "      <th>label</th>\n",
       "      <th>sentiment_details</th>\n",
       "    </tr>\n",
       "    <tr>\n",
       "      <th>sentiment</th>\n",
       "      <th></th>\n",
       "      <th></th>\n",
       "      <th></th>\n",
       "      <th></th>\n",
       "      <th></th>\n",
       "    </tr>\n",
       "  </thead>\n",
       "  <tbody>\n",
       "    <tr>\n",
       "      <th>negative</th>\n",
       "      <td>14.576908</td>\n",
       "      <td>14.576908</td>\n",
       "      <td>14.576908</td>\n",
       "      <td>14.576908</td>\n",
       "      <td>14.576908</td>\n",
       "    </tr>\n",
       "    <tr>\n",
       "      <th>neutral</th>\n",
       "      <td>39.144428</td>\n",
       "      <td>39.144428</td>\n",
       "      <td>39.144428</td>\n",
       "      <td>39.144428</td>\n",
       "      <td>39.144428</td>\n",
       "    </tr>\n",
       "    <tr>\n",
       "      <th>positive</th>\n",
       "      <td>46.278664</td>\n",
       "      <td>46.278664</td>\n",
       "      <td>46.278664</td>\n",
       "      <td>46.278664</td>\n",
       "      <td>46.278664</td>\n",
       "    </tr>\n",
       "  </tbody>\n",
       "</table>\n",
       "</div>"
      ],
      "text/plain": [
       "               tweet   polarity  subjectivity      label  sentiment_details\n",
       "sentiment                                                                  \n",
       "negative   14.576908  14.576908     14.576908  14.576908          14.576908\n",
       "neutral    39.144428  39.144428     39.144428  39.144428          39.144428\n",
       "positive   46.278664  46.278664     46.278664  46.278664          46.278664"
      ]
     },
     "execution_count": 31,
     "metadata": {},
     "output_type": "execute_result"
    }
   ],
   "source": [
    "hc_final.groupby('sentiment').count() * 100 / hc_final['tweet'].count()"
   ]
  },
  {
   "cell_type": "code",
   "execution_count": 32,
   "metadata": {},
   "outputs": [
    {
     "data": {
      "image/png": "[encoded data removed]",
      "text/plain": [
       "<Figure size 640x480 with 1 Axes>"
      ]
     },
     "metadata": {},
     "output_type": "display_data"
    }
   ],
   "source": [
    "sentiment = [46.3,39.1,14.6]\n",
    "objects = ('positive','neutral','negative')\n",
    "y_pos = np.arange(len(objects))\n",
    " \n",
    "plt.bar(y_pos, sentiment, align='center', alpha=0.5)\n",
    "plt.xticks(y_pos, objects)\n",
    "plt.ylabel('Frequency')\n",
    "plt.title('Hillary Clinton\\'s Tweets')\n",
    "plt.color = 'r'\n",
    " \n",
    "plt.show()"
   ]
  },
  {
   "cell_type": "code",
   "execution_count": 33,
   "metadata": {},
   "outputs": [],
   "source": [
    "tweets = []\n",
    "tweets = dt_final.tweet\n",
    "data = tweets.apply(clean_tweet) #Cleaning Tweets"
   ]
  },
  {
   "cell_type": "code",
   "execution_count": 34,
   "metadata": {},
   "outputs": [],
   "source": [
    "from sklearn.feature_extraction.text import CountVectorizer\n",
    "cv = CountVectorizer(max_df=0.8, min_df=100, stop_words='english')"
   ]
  },
  {
   "cell_type": "code",
   "execution_count": 35,
   "metadata": {},
   "outputs": [
    {
     "name": "stdout",
     "output_type": "stream",
     "text": [
      "9361 documents, 119 word featuers.\n"
     ]
    }
   ],
   "source": [
    "X = cv.fit_transform(data)\n",
    "feature_names = cv.get_feature_names()\n",
    "print(\"{} documents, {} word featuers.\".format(X.shape[0], X.shape[1]))"
   ]
  },
  {
   "cell_type": "code",
   "execution_count": 36,
   "metadata": {},
   "outputs": [
    {
     "name": "stdout",
     "output_type": "stream",
     "text": [
      "Training LDA:\n",
      "Finished.\n",
      "17.718013525009155 seconds.\n"
     ]
    }
   ],
   "source": [
    "from sklearn.decomposition import LatentDirichletAllocation\n",
    "import time\n",
    "\n",
    "no_topics = 10\n",
    "\n",
    "print(\"Training LDA:\")\n",
    "st = time.time()\n",
    "lda = LatentDirichletAllocation(\n",
    "    n_components=no_topics, \n",
    "    max_iter=5, \n",
    "    learning_method='online', \n",
    "    learning_offset=50, \n",
    "    random_state=0,\n",
    "    n_jobs=4)\n",
    "lda.fit(X)\n",
    "print(\"Finished.\")\n",
    "print(\"{} seconds.\".format(time.time() - st))"
   ]
  },
  {
   "cell_type": "code",
   "execution_count": 37,
   "metadata": {},
   "outputs": [
    {
     "data": {
      "text/plain": [
       "(10, 119)"
      ]
     },
     "execution_count": 37,
     "metadata": {},
     "output_type": "execute_result"
    }
   ],
   "source": [
    "lda.components_.shape"
   ]
  },
  {
   "cell_type": "code",
   "execution_count": 38,
   "metadata": {},
   "outputs": [],
   "source": [
    "def display_topics(model, feature_names, no_top_words):\n",
    "    for topic_idx, topic in enumerate(model.components_):\n",
    "        print(\"Topic {}:\".format(topic_idx))\n",
    "        print(\" \".join([feature_names[i] for i in topic.argsort()[:-no_top_words-1:-1]]))"
   ]
  },
  {
   "cell_type": "code",
   "execution_count": 39,
   "metadata": {},
   "outputs": [
    {
     "name": "stdout",
     "output_type": "stream",
     "text": [
      "Topic 0:\n",
      "twitter com thank pic just trump2016 love did nice trump2016pic\n",
      "Topic 1:\n",
      "crooked going join obama tomorrow iowa got total deal state\n",
      "Topic 2:\n",
      "big win want great thanks people crowd realdonaldtrump carolina best\n",
      "Topic 3:\n",
      "tonight bad today good watch enjoy american great morning 000\n",
      "Topic 4:\n",
      "hillary clinton like cnn vote debate jobs people campaign realdonaldtrump\n",
      "Topic 5:\n",
      "great america make new poll cruz said media let ted\n",
      "Topic 6:\n",
      "realdonaldtrump country president run need really support world totally just\n",
      "Topic 7:\n",
      "trump realdonaldtrump donald trump2016 job jeb polls president mr bush\n",
      "Topic 8:\n",
      "foxnews don realdonaldtrump amazing won way speech doing florida megynkelly\n",
      "Topic 9:\n",
      "makeamericagreatagain time night look right years live believe national foxnews\n"
     ]
    }
   ],
   "source": [
    "display_topics(lda, feature_names, 10)"
   ]
  },
  {
   "cell_type": "code",
   "execution_count": 40,
   "metadata": {},
   "outputs": [
    {
     "data": {
      "text/plain": [
       "'Millard16 I m loving everything DonaldTrump has been saying about the Iranian Nuclear deal China Mexico and the border Please run'"
      ]
     },
     "execution_count": 40,
     "metadata": {},
     "output_type": "execute_result"
    }
   ],
   "source": [
    "data[19]"
   ]
  },
  {
   "cell_type": "code",
   "execution_count": 41,
   "metadata": {},
   "outputs": [
    {
     "data": {
      "text/plain": [
       "array([[0.025     , 0.27499989, 0.025     , 0.025     , 0.025     ,\n",
       "        0.025     , 0.27500003, 0.02500008, 0.275     , 0.025     ]])"
      ]
     },
     "execution_count": 41,
     "metadata": {},
     "output_type": "execute_result"
    }
   ],
   "source": [
    "d1 = X[19, :]\n",
    "d1_topics = lda.transform(d1)\n",
    "d1_topics"
   ]
  },
  {
   "cell_type": "code",
   "execution_count": 42,
   "metadata": {},
   "outputs": [
    {
     "data": {
      "text/plain": [
       "array([6, 8, 1, 7, 4, 3, 9, 2, 5, 0], dtype=int64)"
      ]
     },
     "execution_count": 42,
     "metadata": {},
     "output_type": "execute_result"
    }
   ],
   "source": [
    "np.argsort(d1_topics)[0][::-1]"
   ]
  },
  {
   "cell_type": "code",
   "execution_count": 43,
   "metadata": {},
   "outputs": [
    {
     "data": {
      "text/html": [
       "<div>\n",
       "<style scoped>\n",
       "    .dataframe tbody tr th:only-of-type {\n",
       "        vertical-align: middle;\n",
       "    }\n",
       "\n",
       "    .dataframe tbody tr th {\n",
       "        vertical-align: top;\n",
       "    }\n",
       "\n",
       "    .dataframe thead th {\n",
       "        text-align: right;\n",
       "    }\n",
       "</style>\n",
       "<table border=\"1\" class=\"dataframe\">\n",
       "  <thead>\n",
       "    <tr style=\"text-align: right;\">\n",
       "      <th></th>\n",
       "      <th>text</th>\n",
       "      <th>label</th>\n",
       "    </tr>\n",
       "  </thead>\n",
       "  <tbody>\n",
       "    <tr>\n",
       "      <th>735</th>\n",
       "      <td>Congratulations to @ TrumpNewYork and @TrumpTo...</td>\n",
       "      <td>Real Estate</td>\n",
       "    </tr>\n",
       "    <tr>\n",
       "      <th>736</th>\n",
       "      <td>With our brand new Tennis Performance Center, ...</td>\n",
       "      <td>Golf</td>\n",
       "    </tr>\n",
       "    <tr>\n",
       "      <th>737</th>\n",
       "      <td>Congrats to great golfer @ Frostpga on his big...</td>\n",
       "      <td>Golf</td>\n",
       "    </tr>\n",
       "    <tr>\n",
       "      <th>738</th>\n",
       "      <td>A beautiful article by @ IvankaTrump on my new...</td>\n",
       "      <td>Golf</td>\n",
       "    </tr>\n",
       "    <tr>\n",
       "      <th>739</th>\n",
       "      <td>See the amazing views from @ TrumpGolfLA locat...</td>\n",
       "      <td>Golf</td>\n",
       "    </tr>\n",
       "  </tbody>\n",
       "</table>\n",
       "</div>"
      ],
      "text/plain": [
       "                                                  text        label\n",
       "735  Congratulations to @ TrumpNewYork and @TrumpTo...  Real Estate\n",
       "736  With our brand new Tennis Performance Center, ...         Golf\n",
       "737  Congrats to great golfer @ Frostpga on his big...         Golf\n",
       "738  A beautiful article by @ IvankaTrump on my new...         Golf\n",
       "739  See the amazing views from @ TrumpGolfLA locat...         Golf"
      ]
     },
     "execution_count": 43,
     "metadata": {},
     "output_type": "execute_result"
    }
   ],
   "source": [
    "data_lda = pd.read_csv('C:/Users/admin/Downloads/SMM-master/tweets_LDA.csv')\n",
    "data_lda.tail()"
   ]
  },
  {
   "cell_type": "code",
   "execution_count": 44,
   "metadata": {},
   "outputs": [
    {
     "data": {
      "text/html": [
       "<div>\n",
       "<style scoped>\n",
       "    .dataframe tbody tr th:only-of-type {\n",
       "        vertical-align: middle;\n",
       "    }\n",
       "\n",
       "    .dataframe tbody tr th {\n",
       "        vertical-align: top;\n",
       "    }\n",
       "\n",
       "    .dataframe thead th {\n",
       "        text-align: right;\n",
       "    }\n",
       "</style>\n",
       "<table border=\"1\" class=\"dataframe\">\n",
       "  <thead>\n",
       "    <tr style=\"text-align: right;\">\n",
       "      <th></th>\n",
       "      <th>text</th>\n",
       "    </tr>\n",
       "    <tr>\n",
       "      <th>label</th>\n",
       "      <th></th>\n",
       "    </tr>\n",
       "  </thead>\n",
       "  <tbody>\n",
       "    <tr>\n",
       "      <th>Advice</th>\n",
       "      <td>12</td>\n",
       "    </tr>\n",
       "    <tr>\n",
       "      <th>Campaign</th>\n",
       "      <td>333</td>\n",
       "    </tr>\n",
       "    <tr>\n",
       "      <th>Democrats</th>\n",
       "      <td>38</td>\n",
       "    </tr>\n",
       "    <tr>\n",
       "      <th>Fake News</th>\n",
       "      <td>82</td>\n",
       "    </tr>\n",
       "    <tr>\n",
       "      <th>Fox News</th>\n",
       "      <td>31</td>\n",
       "    </tr>\n",
       "    <tr>\n",
       "      <th>Golf</th>\n",
       "      <td>8</td>\n",
       "    </tr>\n",
       "    <tr>\n",
       "      <th>Hillary</th>\n",
       "      <td>154</td>\n",
       "    </tr>\n",
       "    <tr>\n",
       "      <th>Investigation</th>\n",
       "      <td>10</td>\n",
       "    </tr>\n",
       "    <tr>\n",
       "      <th>Obama</th>\n",
       "      <td>35</td>\n",
       "    </tr>\n",
       "    <tr>\n",
       "      <th>Real Estate</th>\n",
       "      <td>8</td>\n",
       "    </tr>\n",
       "    <tr>\n",
       "      <th>Trump Attack</th>\n",
       "      <td>29</td>\n",
       "    </tr>\n",
       "  </tbody>\n",
       "</table>\n",
       "</div>"
      ],
      "text/plain": [
       "               text\n",
       "label              \n",
       "Advice           12\n",
       "Campaign        333\n",
       "Democrats        38\n",
       "Fake News        82\n",
       "Fox News         31\n",
       "Golf              8\n",
       "Hillary         154\n",
       "Investigation    10\n",
       "Obama            35\n",
       "Real Estate       8\n",
       "Trump Attack     29"
      ]
     },
     "execution_count": 44,
     "metadata": {},
     "output_type": "execute_result"
    }
   ],
   "source": [
    "data_lda.groupby('label').count()"
   ]
  },
  {
   "cell_type": "code",
   "execution_count": 45,
   "metadata": {},
   "outputs": [
    {
     "data": {
      "text/plain": [
       "array(['Advice', 'Fox News', 'Obama', 'Campaign', 'Democrats', 'Golf',\n",
       "       'Hillary', 'Real Estate', 'Fake News', 'Trump Attack',\n",
       "       'Investigation'], dtype=object)"
      ]
     },
     "execution_count": 45,
     "metadata": {},
     "output_type": "execute_result"
    }
   ],
   "source": [
    "data_lda['label'].unique()"
   ]
  },
  {
   "cell_type": "code",
   "execution_count": 46,
   "metadata": {},
   "outputs": [],
   "source": [
    "from sklearn.svm import LinearSVC\n",
    "from sklearn.model_selection import train_test_split\n",
    "\n",
    "X = data_lda['text']\n",
    "y = data_lda['label']\n",
    "\n",
    "vec = CountVectorizer()\n",
    "vec.fit(X)\n",
    "train_matrix = vec.transform(X)\n",
    "train_df = pd.DataFrame(train_matrix.toarray(), columns=vec.get_feature_names())"
   ]
  },
  {
   "cell_type": "code",
   "execution_count": 47,
   "metadata": {},
   "outputs": [
    {
     "name": "stdout",
     "output_type": "stream",
     "text": [
      "(740, 3003)\n"
     ]
    }
   ],
   "source": [
    "print(train_df.shape)"
   ]
  },
  {
   "cell_type": "code",
   "execution_count": 48,
   "metadata": {},
   "outputs": [],
   "source": [
    "X_train, X_test, y_train, y_test = train_test_split(train_df, y, test_size=0.2, random_state=2)"
   ]
  },
  {
   "cell_type": "code",
   "execution_count": 49,
   "metadata": {},
   "outputs": [],
   "source": [
    "clf = LinearSVC()\n",
    "clf.fit(X_train, y_train)\n",
    "y_pred = clf.predict(X_test)"
   ]
  },
  {
   "cell_type": "code",
   "execution_count": 50,
   "metadata": {},
   "outputs": [
    {
     "data": {
      "text/plain": [
       "0.8581081081081081"
      ]
     },
     "execution_count": 50,
     "metadata": {},
     "output_type": "execute_result"
    }
   ],
   "source": [
    "from sklearn.metrics import accuracy_score\n",
    "accuracy_score(y_test, y_pred)"
   ]
  },
  {
   "cell_type": "code",
   "execution_count": 51,
   "metadata": {},
   "outputs": [],
   "source": [
    "from  sklearn.naive_bayes import MultinomialNB\n",
    "mnb = MultinomialNB();\n",
    "mnb.fit(X_train,y_train);"
   ]
  },
  {
   "cell_type": "code",
   "execution_count": 52,
   "metadata": {},
   "outputs": [
    {
     "data": {
      "text/plain": [
       "0.777027027027027"
      ]
     },
     "execution_count": 52,
     "metadata": {},
     "output_type": "execute_result"
    }
   ],
   "source": [
    "y_pred = mnb.predict(X_test)\n",
    "#Checking for the Accuracy\n",
    "accuracy_score(y_test,y_pred)"
   ]
  },
  {
   "cell_type": "code",
   "execution_count": 53,
   "metadata": {},
   "outputs": [
    {
     "name": "stdout",
     "output_type": "stream",
     "text": [
      "[0.66447368 0.72847682 0.68456376 0.69655172 0.62237762]\n"
     ]
    }
   ],
   "source": [
    "from sklearn.model_selection import cross_val_score\n",
    "cv_scores_mnb = cross_val_score(mnb, train_df, y, cv=5, scoring=\"accuracy\")\n",
    "print(cv_scores_mnb)"
   ]
  },
  {
   "cell_type": "code",
   "execution_count": 54,
   "metadata": {},
   "outputs": [
    {
     "name": "stdout",
     "output_type": "stream",
     "text": [
      "0.679288722061479\n"
     ]
    }
   ],
   "source": [
    "print(cv_scores_mnb.mean())"
   ]
  },
  {
   "cell_type": "code",
   "execution_count": 55,
   "metadata": {},
   "outputs": [
    {
     "name": "stdout",
     "output_type": "stream",
     "text": [
      "[0.75       0.77483444 0.74496644 0.79310345 0.65034965]\n"
     ]
    }
   ],
   "source": [
    "cv_scores = cross_val_score(clf, train_df, y, cv=5, scoring=\"accuracy\")\n",
    "print(cv_scores)"
   ]
  },
  {
   "cell_type": "code",
   "execution_count": 56,
   "metadata": {},
   "outputs": [
    {
     "name": "stdout",
     "output_type": "stream",
     "text": [
      "0.742650795732925\n"
     ]
    }
   ],
   "source": [
    "print(cv_scores.mean())"
   ]
  },
  {
   "cell_type": "code",
   "execution_count": 57,
   "metadata": {},
   "outputs": [
    {
     "data": {
      "text/plain": [
       "0.7972972972972973"
      ]
     },
     "execution_count": 57,
     "metadata": {},
     "output_type": "execute_result"
    }
   ],
   "source": [
    "#Without Stop words\n",
    "vec = CountVectorizer(stop_words='english')\n",
    "vec.fit(X)\n",
    "train_matrix = vec.transform(X)\n",
    "train_df = pd.DataFrame(train_matrix.toarray(), columns=vec.get_feature_names())\n",
    "\n",
    "X_train, X_test, y_train, y_test = train_test_split(train_df, y, test_size = 0.20,random_state = 2)\n",
    "\n",
    "mnb.fit(X_train,y_train);\n",
    "y_pred = mnb.predict(X_test)\n",
    "\n",
    "#Checking for the Accuracy\n",
    "accuracy_score(y_test,y_pred)"
   ]
  },
  {
   "cell_type": "code",
   "execution_count": 58,
   "metadata": {},
   "outputs": [
    {
     "data": {
      "image/png": "[encoded data removed]",
      "text/plain": [
       "<Figure size 640x480 with 1 Axes>"
      ]
     },
     "metadata": {},
     "output_type": "display_data"
    }
   ],
   "source": [
    "import matplotlib.pyplot as plt; plt.rcdefaults()\n",
    "import matplotlib.pyplot as plt\n",
    " \n",
    "objects = ('With Stop Words', 'Without Stop Words')\n",
    "y_pos = np.arange(len(objects))\n",
    "performance = [1 - 0.777027027027027,1 - 0.7972972972972973]\n",
    " \n",
    "plt.bar(y_pos, performance, align='center', alpha=0.5)\n",
    "plt.xticks(y_pos, objects)\n",
    "plt.ylabel('Error')\n",
    "plt.title('Model Accuracy using Naive Bayes')\n",
    " \n",
    "plt.show()"
   ]
  },
  {
   "cell_type": "code",
   "execution_count": 59,
   "metadata": {},
   "outputs": [
    {
     "data": {
      "text/plain": [
       "0.8648648648648649"
      ]
     },
     "execution_count": 59,
     "metadata": {},
     "output_type": "execute_result"
    }
   ],
   "source": [
    "#Without Stop Words\n",
    "clf = LinearSVC()\n",
    "clf.fit(X_train, y_train)\n",
    "y_pred = clf.predict(X_test)\n",
    "accuracy_score(y_test,y_pred)"
   ]
  },
  {
   "cell_type": "code",
   "execution_count": 60,
   "metadata": {},
   "outputs": [
    {
     "data": {
      "image/png": "[encoded data removed]",
      "text/plain": [
       "<Figure size 640x480 with 1 Axes>"
      ]
     },
     "metadata": {},
     "output_type": "display_data"
    }
   ],
   "source": [
    "objects = ('With Stop Words', 'Without Stop Words')\n",
    "y_pos = np.arange(len(objects))\n",
    "performance = [1 - 0.8581081081081081,1 - 0.8648648648648649]\n",
    " \n",
    "plt.bar(y_pos, performance, align='center', alpha=0.5)\n",
    "plt.xticks(y_pos, objects)\n",
    "plt.ylabel('Error')\n",
    "plt.title('Model Accuracy using Linear SVC')\n",
    " \n",
    "plt.show()"
   ]
  },
  {
   "cell_type": "code",
   "execution_count": 61,
   "metadata": {},
   "outputs": [],
   "source": [
    "from sklearn.feature_extraction.text import TfidfTransformer\n",
    "from sklearn.linear_model import SGDClassifier\n",
    "from sklearn.pipeline import Pipeline"
   ]
  },
  {
   "cell_type": "code",
   "execution_count": 62,
   "metadata": {},
   "outputs": [
    {
     "data": {
      "text/plain": [
       "0.8648648648648649"
      ]
     },
     "execution_count": 62,
     "metadata": {},
     "output_type": "execute_result"
    }
   ],
   "source": [
    "# Define a pipeline combining a text feature extractor with a simple classifier\n",
    "pipeline = Pipeline([\n",
    "    ('vect', CountVectorizer(stop_words='english')),\n",
    "    ('tfidf', TfidfTransformer(norm='l2',smooth_idf=True,use_idf=True)),\n",
    "    ('clf', SGDClassifier(penalty='l2',max_iter=100, tol=None)) ]);\n",
    "#Train Test Split\n",
    "X_train, X_test, y_train, y_test = train_test_split(X, y, test_size = 0.2,random_state = 2)\n",
    "pipeline.fit(X_train,y_train);\n",
    "y_pred = pipeline.predict(X_test);\n",
    "accuracy_score(y_test,y_pred)"
   ]
  },
  {
   "cell_type": "code",
   "execution_count": 63,
   "metadata": {},
   "outputs": [
    {
     "data": {
      "text/plain": [
       "array([0.75      , 0.75496689, 0.79865772, 0.80689655, 0.67132867])"
      ]
     },
     "execution_count": 63,
     "metadata": {},
     "output_type": "execute_result"
    }
   ],
   "source": [
    "cv_scores = cross_val_score(pipeline, X, y, cv=5, scoring=\"accuracy\")\n",
    "cv_scores"
   ]
  },
  {
   "cell_type": "code",
   "execution_count": 64,
   "metadata": {},
   "outputs": [
    {
     "data": {
      "text/plain": [
       "0.7563699657181666"
      ]
     },
     "execution_count": 64,
     "metadata": {},
     "output_type": "execute_result"
    }
   ],
   "source": [
    "cv_scores.mean()"
   ]
  },
  {
   "cell_type": "code",
   "execution_count": 65,
   "metadata": {},
   "outputs": [],
   "source": [
    "cv_scores = cross_val_score(pipeline, X, y, cv=7, scoring=\"accuracy\")"
   ]
  },
  {
   "cell_type": "code",
   "execution_count": 66,
   "metadata": {},
   "outputs": [
    {
     "data": {
      "text/plain": [
       "array([0.72072072, 0.76851852, 0.78703704, 0.81904762, 0.75961538,\n",
       "       0.76470588, 0.65686275])"
      ]
     },
     "execution_count": 66,
     "metadata": {},
     "output_type": "execute_result"
    }
   ],
   "source": [
    "cv_scores"
   ]
  },
  {
   "cell_type": "code",
   "execution_count": 67,
   "metadata": {},
   "outputs": [
    {
     "data": {
      "text/plain": [
       "0.7537868439128943"
      ]
     },
     "execution_count": 67,
     "metadata": {},
     "output_type": "execute_result"
    }
   ],
   "source": [
    "cv_scores.mean()"
   ]
  },
  {
   "cell_type": "code",
   "execution_count": 68,
   "metadata": {},
   "outputs": [],
   "source": [
    "from sklearn.ensemble import RandomForestClassifier\n",
    "from sklearn.ensemble import VotingClassifier\n",
    "from sklearn.linear_model import LogisticRegression\n",
    "from sklearn.svm import SVC\n",
    "from sklearn.linear_model import SGDClassifier\n",
    "from sklearn.naive_bayes import MultinomialNB"
   ]
  },
  {
   "cell_type": "code",
   "execution_count": 69,
   "metadata": {},
   "outputs": [],
   "source": [
    "log_clf = LogisticRegression()\n",
    "rnd_clf = RandomForestClassifier(n_estimators=300)\n",
    "svm_clf = SVC()\n",
    "mnb_clf = MultinomialNB()\n",
    "svm_gd_clf = SGDClassifier(penalty='elasticnet',max_iter=100, tol=None)"
   ]
  },
  {
   "cell_type": "code",
   "execution_count": 70,
   "metadata": {},
   "outputs": [],
   "source": [
    "voting_clf_1  = VotingClassifier(\n",
    "    estimators=[('lr', log_clf), ('rf', rnd_clf), ('svc', svm_clf)],\n",
    "    voting='hard')"
   ]
  },
  {
   "cell_type": "code",
   "execution_count": 71,
   "metadata": {},
   "outputs": [],
   "source": [
    "voting_clf_2 = VotingClassifier(\n",
    "    estimators=[('mnb', mnb_clf),('svc_gd', svm_gd_clf)],\n",
    "    voting='hard')"
   ]
  },
  {
   "cell_type": "code",
   "execution_count": 72,
   "metadata": {},
   "outputs": [],
   "source": [
    "voting_clf_3 = VotingClassifier(\n",
    "    estimators=[('mnb', mnb_clf),('svc_gd', svm_gd_clf),('lr', log_clf)],\n",
    "    voting='hard')"
   ]
  },
  {
   "cell_type": "code",
   "execution_count": 73,
   "metadata": {},
   "outputs": [
    {
     "name": "stdout",
     "output_type": "stream",
     "text": [
      "LogisticRegression 0.8243243243243243\n",
      "RandomForestClassifier 0.831081081081081\n",
      "SVC 0.49324324324324326\n",
      "VotingClassifier 0.8175675675675675\n"
     ]
    },
    {
     "name": "stderr",
     "output_type": "stream",
     "text": [
      "c:\\users\\admin\\appdata\\local\\programs\\python\\python35\\lib\\site-packages\\sklearn\\preprocessing\\label.py:151: DeprecationWarning: The truth value of an empty array is ambiguous. Returning False, but in future this will result in an error. Use `array.size > 0` to check that an array is not empty.\n",
      "  if diff:\n"
     ]
    }
   ],
   "source": [
    "#Voting Classifier 1\n",
    "X_train, X_test, y_train, y_test = train_test_split(train_matrix, y, test_size = 0.2,random_state = 2)\n",
    "for clf in (log_clf, rnd_clf, svm_clf,voting_clf_1):\n",
    "     clf.fit(X_train, y_train)\n",
    "     y_pred = ''\n",
    "     y_pred = clf.predict(X_test)\n",
    "     print(clf.__class__.__name__, accuracy_score(y_test, y_pred))"
   ]
  },
  {
   "cell_type": "code",
   "execution_count": 74,
   "metadata": {},
   "outputs": [
    {
     "name": "stdout",
     "output_type": "stream",
     "text": [
      "MultinomialNB 0.7972972972972973\n",
      "SGDClassifier 0.8918918918918919\n",
      "VotingClassifier 0.7972972972972973\n"
     ]
    },
    {
     "name": "stderr",
     "output_type": "stream",
     "text": [
      "c:\\users\\admin\\appdata\\local\\programs\\python\\python35\\lib\\site-packages\\sklearn\\preprocessing\\label.py:151: DeprecationWarning: The truth value of an empty array is ambiguous. Returning False, but in future this will result in an error. Use `array.size > 0` to check that an array is not empty.\n",
      "  if diff:\n"
     ]
    }
   ],
   "source": [
    "#Voting Classifier 2\n",
    "X_train, X_test, y_train, y_test = train_test_split(train_matrix, y, test_size = 0.2,random_state = 2)\n",
    "for clf in (mnb,svm_gd_clf,voting_clf_2):\n",
    "     clf.fit(X_train, y_train)\n",
    "     y_pred = ''\n",
    "     y_pred = clf.predict(X_test)\n",
    "     print(clf.__class__.__name__, accuracy_score(y_test, y_pred))"
   ]
  },
  {
   "cell_type": "code",
   "execution_count": 75,
   "metadata": {},
   "outputs": [
    {
     "name": "stdout",
     "output_type": "stream",
     "text": [
      "LogisticRegression 0.8243243243243243\n",
      "SGDClassifier 0.8783783783783784\n",
      "MultinomialNB 0.7972972972972973\n",
      "VotingClassifier 0.8513513513513513\n"
     ]
    },
    {
     "name": "stderr",
     "output_type": "stream",
     "text": [
      "c:\\users\\admin\\appdata\\local\\programs\\python\\python35\\lib\\site-packages\\sklearn\\preprocessing\\label.py:151: DeprecationWarning: The truth value of an empty array is ambiguous. Returning False, but in future this will result in an error. Use `array.size > 0` to check that an array is not empty.\n",
      "  if diff:\n"
     ]
    }
   ],
   "source": [
    "#Voting Classifier 3\n",
    "X_train, X_test, y_train, y_test = train_test_split(train_matrix, y, test_size = 0.2,random_state = 2)\n",
    "for clf in (log_clf, svm_gd_clf, mnb_clf,voting_clf_3):\n",
    "     clf.fit(X_train, y_train)\n",
    "     y_pred = ''\n",
    "     y_pred = clf.predict(X_test)\n",
    "     print(clf.__class__.__name__, accuracy_score(y_test, y_pred))"
   ]
  },
  {
   "cell_type": "code",
   "execution_count": 76,
   "metadata": {},
   "outputs": [
    {
     "data": {
      "text/plain": [
       "0.6959459459459459"
      ]
     },
     "execution_count": 76,
     "metadata": {},
     "output_type": "execute_result"
    }
   ],
   "source": [
    "X_train, X_test, y_train, y_test = train_test_split(train_matrix, y, test_size = 0.2,random_state = 2)\n",
    "from sklearn.ensemble import BaggingClassifier\n",
    "from sklearn.tree import DecisionTreeClassifier\n",
    "\n",
    "bag_clf = BaggingClassifier(\n",
    "    DecisionTreeClassifier(), n_estimators=500,\n",
    "    max_samples=100, bootstrap=True, n_jobs=-1)\n",
    "bag_clf.fit(X_train, y_train)\n",
    "y_pred = bag_clf.predict(X_test)\n",
    "#Accuracy Score\n",
    "accuracy_score(y_test,y_pred)"
   ]
  },
  {
   "cell_type": "code",
   "execution_count": 77,
   "metadata": {},
   "outputs": [
    {
     "data": {
      "image/png": "[encoded data removed]",
      "text/plain": [
       "<Figure size 640x480 with 1 Axes>"
      ]
     },
     "metadata": {},
     "output_type": "display_data"
    }
   ],
   "source": [
    "objects = ('Voting Classifier 1', 'Voting Classifier 2', 'Voting Classifier 3')\n",
    "y_pos = np.arange(len(objects))\n",
    "performance = [1 - 0.8243243243243243,1 - 0.8040540540540541,1 - 0.8445945945945946]\n",
    " \n",
    "plt.bar(y_pos, performance, align='center', alpha=0.5)\n",
    "plt.xticks(y_pos, objects)\n",
    "plt.ylabel('Error Rate')\n",
    "plt.title('Modelwise Accuracy Comparision')\n",
    "plt.xlabel('Predictive Model')\n",
    " \n",
    "plt.show()"
   ]
  }
 ],
 "metadata": {
  "kernelspec": {
   "display_name": "Python 3",
   "language": "python",
   "name": "python3"
  },
  "language_info": {
   "codemirror_mode": {
    "name": "ipython",
    "version": 3
   },
   "file_extension": ".py",
   "mimetype": "text/x-python",
   "name": "python",
   "nbconvert_exporter": "python",
   "pygments_lexer": "ipython3",
   "version": "3.5.4"
  }
 },
 "nbformat": 4,
 "nbformat_minor": 2
}
